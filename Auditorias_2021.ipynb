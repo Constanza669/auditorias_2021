{
 "cells": [
  {
   "cell_type": "markdown",
   "metadata": {},
   "source": [
    "# Análisis del rendimiento de auditorias internas\n",
    "\n",
    "**Por Constanza Espinoza**\n",
    "\n",
    "Dataset analiza rendimiento de auditorias internas realizadas a los distintos contratos de la organización durante el actual año\n",
    "\n",
    "\n",
    "## Objetivo \n",
    "El objetivo de este análisis es responder a una serie de preguntas a través del estudio de la base de datos. Las preguntas son las siguientes:\n",
    " - ¿La pandemia fue un factor frente a la disminución o aumento de la utilzación de aeropuertos?\n",
    " - ¿Cuales fueron los paises más afectados?, ¿Y los menos afectados?\n",
    " - ¿El efecto se mantuvo en el tiempo (año 2020)?\n",
    " \n",
    " ## Tabla de contenido\n",
    "  1. Carga de datos\n",
    "  2. Exploración de datos\n",
    "  3. Limpieza de datos\n",
    "  4. Presentación de datos\n",
    "  5. Conclusiones\n",
    "  6. Referencias\n",
    "  \n",
    "## 1. Carga de datos\n",
    "Se cargarán los datos extraidos de la pagina web Kaggle"
   ]
  },
  {
   "cell_type": "code",
   "execution_count": null,
   "metadata": {},
   "outputs": [],
   "source": []
  },
  {
   "cell_type": "code",
   "execution_count": null,
   "metadata": {},
   "outputs": [],
   "source": []
  },
  {
   "cell_type": "code",
   "execution_count": null,
   "metadata": {},
   "outputs": [],
   "source": []
  },
  {
   "cell_type": "code",
   "execution_count": null,
   "metadata": {},
   "outputs": [],
   "source": []
  },
  {
   "cell_type": "code",
   "execution_count": null,
   "metadata": {},
   "outputs": [],
   "source": []
  },
  {
   "cell_type": "code",
   "execution_count": null,
   "metadata": {},
   "outputs": [],
   "source": []
  },
  {
   "cell_type": "code",
   "execution_count": null,
   "metadata": {},
   "outputs": [],
   "source": []
  }
 ],
 "metadata": {
  "kernelspec": {
   "display_name": "Python 3",
   "language": "python",
   "name": "python3"
  },
  "language_info": {
   "codemirror_mode": {
    "name": "ipython",
    "version": 3
   },
   "file_extension": ".py",
   "mimetype": "text/x-python",
   "name": "python",
   "nbconvert_exporter": "python",
   "pygments_lexer": "ipython3",
   "version": "3.8.5"
  }
 },
 "nbformat": 4,
 "nbformat_minor": 4
}
