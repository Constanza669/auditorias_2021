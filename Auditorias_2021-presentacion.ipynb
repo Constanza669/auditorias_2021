{
 "cells": [
  {
   "cell_type": "markdown",
   "metadata": {
    "slideshow": {
     "slide_type": "slide"
    }
   },
   "source": [
    "# Análisis del rendimiento de auditorias internas\n",
    "\n",
    "**Por Constanza Espinoza**\n",
    "\n",
    "Dataset analiza rendimiento de auditorias internas realizadas a los distintos contratos de la organización durante el actual año\n",
    "\n",
    "\n",
    "## Objetivo \n",
    "El objetivo de este análisis es responder a una serie de preguntas a través del estudio de la base de datos. Las preguntas son las siguientes:\n",
    " - ¿Existe alguna tendencia de resultados entre los distintos contratos frente a las distintas auditorias?\n",
    " - ¿Hubo un aumento significativo en el cumplimiento frente al plazo entregado?\n",
    " - ¿Cúal o cuales fueron los contratos que mejor resultado tuvieron?, ¿Y los peores?\n",
    " - ¿Cúal auditoria tuvo mejores resultados?, ¿y la peor?\n",
    " - ¿Qué topicos auditados tuvieron mejores resultados?, ¿y los peores?\n",
    "\n",
    " \n",
    " ## Tabla de contenido\n",
    "  1. Carga de datos\n",
    "  2. Exploración de datos\n",
    "  3. Limpieza de datos\n",
    "  4. Presentación de datos\n",
    "  5. Conclusiones\n",
    "\n",
    "  \n",
    "## 1. Carga de datos\n",
    "Se cargaron los datos a partir de una planilla en la que se mantenia seguimiento de los resultados obtenidos en las distintas auditorias realizadas en el actual año. Auditorias enfocadas en salud ocupacional, seguridad, calidad y medio ambiente."
   ]
  },
  {
   "cell_type": "code",
   "execution_count": 168,
   "metadata": {
    "slideshow": {
     "slide_type": "skip"
    }
   },
   "outputs": [],
   "source": [
    "#Importar librerias a utilizar\n",
    "import pandas as pd\n",
    "import numpy as np\n",
    "import matplotlib.pyplot as plt\n",
    "import seaborn as sns\n",
    "\n",
    "%matplotlib inline"
   ]
  },
  {
   "cell_type": "code",
   "execution_count": 169,
   "metadata": {
    "slideshow": {
     "slide_type": "skip"
    }
   },
   "outputs": [],
   "source": [
    "#Importar los datos a utilizar\n",
    "df = pd.read_csv('datos/rendimiento.csv')"
   ]
  },
  {
   "cell_type": "markdown",
   "metadata": {
    "slideshow": {
     "slide_type": "slide"
    }
   },
   "source": [
    "## 2. Exploración de datos\n",
    "Se revisaron los datos cargados para determinar que se debe realizar en el siguiente paso"
   ]
  },
  {
   "cell_type": "code",
   "execution_count": 170,
   "metadata": {
    "slideshow": {
     "slide_type": "subslide"
    }
   },
   "outputs": [
    {
     "data": {
      "text/html": [
       "<div>\n",
       "<style scoped>\n",
       "    .dataframe tbody tr th:only-of-type {\n",
       "        vertical-align: middle;\n",
       "    }\n",
       "\n",
       "    .dataframe tbody tr th {\n",
       "        vertical-align: top;\n",
       "    }\n",
       "\n",
       "    .dataframe thead th {\n",
       "        text-align: right;\n",
       "    }\n",
       "</style>\n",
       "<table border=\"1\" class=\"dataframe\">\n",
       "  <thead>\n",
       "    <tr style=\"text-align: right;\">\n",
       "      <th></th>\n",
       "      <th>Servicio</th>\n",
       "      <th>Region</th>\n",
       "      <th>Auditoria</th>\n",
       "      <th>Categoria</th>\n",
       "      <th>Subgerencia</th>\n",
       "      <th>Requisito</th>\n",
       "      <th>Cumplimiento parcial</th>\n",
       "      <th>Cumplimiento final</th>\n",
       "      <th>Nc preliminar</th>\n",
       "      <th>NC definitivas</th>\n",
       "      <th>NC tratadas</th>\n",
       "    </tr>\n",
       "  </thead>\n",
       "  <tbody>\n",
       "    <tr>\n",
       "      <th>207</th>\n",
       "      <td>Casa Matriz</td>\n",
       "      <td>Metropolitana</td>\n",
       "      <td>Seguridad</td>\n",
       "      <td>B</td>\n",
       "      <td>Victor Zañartu</td>\n",
       "      <td>Identificacion Peligros y Evaluacion de Riesgos</td>\n",
       "      <td>100%</td>\n",
       "      <td>100%</td>\n",
       "      <td>0</td>\n",
       "      <td>0</td>\n",
       "      <td>0</td>\n",
       "    </tr>\n",
       "    <tr>\n",
       "      <th>432</th>\n",
       "      <td>Casa Matriz</td>\n",
       "      <td>Metropolitana</td>\n",
       "      <td>Medio ambiente</td>\n",
       "      <td>B</td>\n",
       "      <td>Victor Zañartu</td>\n",
       "      <td>Objetivos de Medio Ambiente</td>\n",
       "      <td>63%</td>\n",
       "      <td>100%</td>\n",
       "      <td>2</td>\n",
       "      <td>0</td>\n",
       "      <td>2</td>\n",
       "    </tr>\n",
       "    <tr>\n",
       "      <th>342</th>\n",
       "      <td>INCO</td>\n",
       "      <td>Atacama y Coquimbo</td>\n",
       "      <td>Calidad</td>\n",
       "      <td>B</td>\n",
       "      <td>Elias Matamoro</td>\n",
       "      <td>Control Documental</td>\n",
       "      <td>100%</td>\n",
       "      <td>100%</td>\n",
       "      <td>0</td>\n",
       "      <td>0</td>\n",
       "      <td>0</td>\n",
       "    </tr>\n",
       "    <tr>\n",
       "      <th>92</th>\n",
       "      <td>INCO</td>\n",
       "      <td>Atacama y Coquimbo</td>\n",
       "      <td>Higiene y Salud Ocupacional</td>\n",
       "      <td>B</td>\n",
       "      <td>Elias Matamoros</td>\n",
       "      <td>RUV</td>\n",
       "      <td>85%</td>\n",
       "      <td>100%</td>\n",
       "      <td>3</td>\n",
       "      <td>0</td>\n",
       "      <td>3</td>\n",
       "    </tr>\n",
       "    <tr>\n",
       "      <th>417</th>\n",
       "      <td>Anglo American</td>\n",
       "      <td>Metropolitana</td>\n",
       "      <td>Medio ambiente</td>\n",
       "      <td>A</td>\n",
       "      <td>Elias Matamoro</td>\n",
       "      <td>Identificación Aspectos e Impactos Ambientales</td>\n",
       "      <td>75%</td>\n",
       "      <td>100%</td>\n",
       "      <td>1</td>\n",
       "      <td>0</td>\n",
       "      <td>1</td>\n",
       "    </tr>\n",
       "    <tr>\n",
       "      <th>216</th>\n",
       "      <td>Casa Matriz</td>\n",
       "      <td>Metropolitana</td>\n",
       "      <td>Seguridad</td>\n",
       "      <td>B</td>\n",
       "      <td>Victor Zañartu</td>\n",
       "      <td>Elementos de protección personal</td>\n",
       "      <td>80%</td>\n",
       "      <td>100%</td>\n",
       "      <td>1</td>\n",
       "      <td>0</td>\n",
       "      <td>1</td>\n",
       "    </tr>\n",
       "    <tr>\n",
       "      <th>185</th>\n",
       "      <td>Cerro Negro</td>\n",
       "      <td>Atacama y Coquimbo</td>\n",
       "      <td>Seguridad</td>\n",
       "      <td>B</td>\n",
       "      <td>Elias Matamoro</td>\n",
       "      <td>Preparacion y Respuesta Ante Emergencias</td>\n",
       "      <td>85%</td>\n",
       "      <td>100%</td>\n",
       "      <td>2</td>\n",
       "      <td>0</td>\n",
       "      <td>2</td>\n",
       "    </tr>\n",
       "    <tr>\n",
       "      <th>401</th>\n",
       "      <td>Cerro Colorado</td>\n",
       "      <td>Tarapaca</td>\n",
       "      <td>Medio ambiente</td>\n",
       "      <td>B</td>\n",
       "      <td>Hector Figueroa</td>\n",
       "      <td>Control Documental</td>\n",
       "      <td>100%</td>\n",
       "      <td>100%</td>\n",
       "      <td>0</td>\n",
       "      <td>0</td>\n",
       "      <td>0</td>\n",
       "    </tr>\n",
       "    <tr>\n",
       "      <th>27</th>\n",
       "      <td>Spence</td>\n",
       "      <td>Antofagasta</td>\n",
       "      <td>Higiene y Salud Ocupacional</td>\n",
       "      <td>A</td>\n",
       "      <td>Mauricio Aguilera</td>\n",
       "      <td>Silice</td>\n",
       "      <td>62%</td>\n",
       "      <td>81%</td>\n",
       "      <td>8</td>\n",
       "      <td>5</td>\n",
       "      <td>3</td>\n",
       "    </tr>\n",
       "    <tr>\n",
       "      <th>309</th>\n",
       "      <td>Spence</td>\n",
       "      <td>Antofagasta</td>\n",
       "      <td>Calidad</td>\n",
       "      <td>A</td>\n",
       "      <td>Mauricio Aguilera</td>\n",
       "      <td>Auditorías</td>\n",
       "      <td>75%</td>\n",
       "      <td>75%</td>\n",
       "      <td>1</td>\n",
       "      <td>1</td>\n",
       "      <td>0</td>\n",
       "    </tr>\n",
       "  </tbody>\n",
       "</table>\n",
       "</div>"
      ],
      "text/plain": [
       "           Servicio              Region                    Auditoria  \\\n",
       "207     Casa Matriz       Metropolitana                   Seguridad    \n",
       "432     Casa Matriz      Metropolitana                Medio ambiente   \n",
       "342            INCO  Atacama y Coquimbo                      Calidad   \n",
       "92             INCO  Atacama y Coquimbo  Higiene y Salud Ocupacional   \n",
       "417  Anglo American      Metropolitana                Medio ambiente   \n",
       "216     Casa Matriz       Metropolitana                   Seguridad    \n",
       "185     Cerro Negro  Atacama y Coquimbo                   Seguridad    \n",
       "401  Cerro Colorado            Tarapaca               Medio ambiente   \n",
       "27           Spence         Antofagasta  Higiene y Salud Ocupacional   \n",
       "309          Spence         Antofagasta                      Calidad   \n",
       "\n",
       "    Categoria         Subgerencia  \\\n",
       "207         B      Victor Zañartu   \n",
       "432         B     Victor Zañartu    \n",
       "342         B      Elias Matamoro   \n",
       "92          B     Elias Matamoros   \n",
       "417         A      Elias Matamoro   \n",
       "216         B      Victor Zañartu   \n",
       "185         B      Elias Matamoro   \n",
       "401         B     Hector Figueroa   \n",
       "27          A  Mauricio Aguilera    \n",
       "309         A   Mauricio Aguilera   \n",
       "\n",
       "                                           Requisito Cumplimiento parcial  \\\n",
       "207  Identificacion Peligros y Evaluacion de Riesgos                 100%   \n",
       "432                      Objetivos de Medio Ambiente                  63%   \n",
       "342                               Control Documental                 100%   \n",
       "92                                               RUV                  85%   \n",
       "417   Identificación Aspectos e Impactos Ambientales                  75%   \n",
       "216                Elementos de protección personal                   80%   \n",
       "185         Preparacion y Respuesta Ante Emergencias                  85%   \n",
       "401                               Control Documental                 100%   \n",
       "27                                            Silice                  62%   \n",
       "309                                       Auditorías                  75%   \n",
       "\n",
       "    Cumplimiento final  Nc preliminar  NC definitivas  NC tratadas  \n",
       "207               100%              0               0            0  \n",
       "432               100%              2               0            2  \n",
       "342               100%              0               0            0  \n",
       "92                100%              3               0            3  \n",
       "417               100%              1               0            1  \n",
       "216               100%              1               0            1  \n",
       "185               100%              2               0            2  \n",
       "401               100%              0               0            0  \n",
       "27                 81%              8               5            3  \n",
       "309                75%              1               1            0  "
      ]
     },
     "execution_count": 170,
     "metadata": {},
     "output_type": "execute_result"
    }
   ],
   "source": [
    "#Revisar comportamiento de columnas\n",
    "df.sample(10)"
   ]
  },
  {
   "cell_type": "code",
   "execution_count": 171,
   "metadata": {
    "slideshow": {
     "slide_type": "skip"
    }
   },
   "outputs": [
    {
     "name": "stdout",
     "output_type": "stream",
     "text": [
      "<class 'pandas.core.frame.DataFrame'>\n",
      "RangeIndex: 441 entries, 0 to 440\n",
      "Data columns (total 11 columns):\n",
      " #   Column                Non-Null Count  Dtype \n",
      "---  ------                --------------  ----- \n",
      " 0   Servicio              441 non-null    object\n",
      " 1   Region                441 non-null    object\n",
      " 2   Auditoria             441 non-null    object\n",
      " 3   Categoria             441 non-null    object\n",
      " 4   Subgerencia           441 non-null    object\n",
      " 5   Requisito             441 non-null    object\n",
      " 6   Cumplimiento parcial  441 non-null    object\n",
      " 7   Cumplimiento final    441 non-null    object\n",
      " 8   Nc preliminar         441 non-null    int64 \n",
      " 9   NC definitivas        441 non-null    int64 \n",
      " 10  NC tratadas           441 non-null    int64 \n",
      "dtypes: int64(3), object(8)\n",
      "memory usage: 38.0+ KB\n"
     ]
    }
   ],
   "source": [
    "df.info()\n",
    "#No hay valores nulos"
   ]
  },
  {
   "cell_type": "code",
   "execution_count": 172,
   "metadata": {
    "slideshow": {
     "slide_type": "skip"
    }
   },
   "outputs": [
    {
     "data": {
      "text/plain": [
       "(441, 11)"
      ]
     },
     "execution_count": 172,
     "metadata": {},
     "output_type": "execute_result"
    }
   ],
   "source": [
    "df.shape\n",
    "#441 filas y 11 columnas"
   ]
  },
  {
   "cell_type": "code",
   "execution_count": 173,
   "metadata": {
    "slideshow": {
     "slide_type": "subslide"
    }
   },
   "outputs": [
    {
     "data": {
      "text/plain": [
       "Servicio                20\n",
       "Region                   6\n",
       "Auditoria                4\n",
       "Categoria                2\n",
       "Subgerencia              7\n",
       "Requisito               47\n",
       "Cumplimiento parcial    48\n",
       "Cumplimiento final      38\n",
       "Nc preliminar           12\n",
       "NC definitivas           9\n",
       "NC tratadas              9\n",
       "dtype: int64"
      ]
     },
     "execution_count": 173,
     "metadata": {},
     "output_type": "execute_result"
    }
   ],
   "source": [
    "#revisar valores unicos\n",
    "df.nunique()\n",
    "#De acuerdo a revisión, se auditaron 20 contratos, distribuidos en 6 regiones"
   ]
  },
  {
   "cell_type": "code",
   "execution_count": 23,
   "metadata": {
    "slideshow": {
     "slide_type": "skip"
    }
   },
   "outputs": [],
   "source": [
    "#ver las variables definidas\n",
    "#%whos\n",
    "#import math para importar operaciones matematicas\n"
   ]
  },
  {
   "cell_type": "code",
   "execution_count": 177,
   "metadata": {
    "slideshow": {
     "slide_type": "subslide"
    }
   },
   "outputs": [
    {
     "data": {
      "text/plain": [
       "count                441\n",
       "unique                 7\n",
       "top       Elias Matamoro\n",
       "freq                 116\n",
       "Name: Subgerencia, dtype: object"
      ]
     },
     "execution_count": 177,
     "metadata": {},
     "output_type": "execute_result"
    }
   ],
   "source": [
    "df['Subgerencia'].describe()\n",
    "#De acuerdo a la revisión, son 4 subgerentes, sin embargo, el dataset muestra 7\n",
    "#Se debe modificar columna'"
   ]
  },
  {
   "cell_type": "code",
   "execution_count": 178,
   "metadata": {
    "slideshow": {
     "slide_type": "subslide"
    }
   },
   "outputs": [
    {
     "data": {
      "text/plain": [
       "array(['Hector Figueroa', 'Mauricio Aguilera ', 'Elias Matamoros',\n",
       "       'Victor Zañartu ', 'Elias Matamoro', 'Victor Zañartu',\n",
       "       'Mauricio Aguilera'], dtype=object)"
      ]
     },
     "execution_count": 178,
     "metadata": {},
     "output_type": "execute_result"
    }
   ],
   "source": [
    "df['Subgerencia'].unique()\n",
    "#Se evidencia que Elias, Mauricio y Victor se repite dos veces\n",
    "#Se debe quitar el espacio del final de la palabra de Mauricio y Victor y modificar Matamoro a Matamoros"
   ]
  },
  {
   "cell_type": "code",
   "execution_count": 175,
   "metadata": {
    "slideshow": {
     "slide_type": "skip"
    }
   },
   "outputs": [
    {
     "data": {
      "text/plain": [
       "count             441\n",
       "unique              6\n",
       "top       Antofagasta\n",
       "freq              140\n",
       "Name: Region, dtype: object"
      ]
     },
     "execution_count": 175,
     "metadata": {},
     "output_type": "execute_result"
    }
   ],
   "source": [
    "df['Region'].describe()\n",
    "#De acuerdo a revisión, se mantienen 6 regiones unicas, sin embargo, no es así"
   ]
  },
  {
   "cell_type": "code",
   "execution_count": 176,
   "metadata": {
    "slideshow": {
     "slide_type": "skip"
    }
   },
   "outputs": [
    {
     "data": {
      "text/plain": [
       "array(['Tarapaca', 'Antofagasta', 'Atacama y Coquimbo', 'Metropolitana',\n",
       "       'Bio Bio', 'Metropolitana '], dtype=object)"
      ]
     },
     "execution_count": 176,
     "metadata": {},
     "output_type": "execute_result"
    }
   ],
   "source": [
    "df['Region'].unique()\n",
    "#Se evidencia que la región Metropolitana se repite 2 veces\n",
    "#Se debe quitar el espacio del final de la palabra de Metropolitana"
   ]
  },
  {
   "cell_type": "code",
   "execution_count": 179,
   "metadata": {
    "slideshow": {
     "slide_type": "subslide"
    }
   },
   "outputs": [
    {
     "ename": "SyntaxError",
     "evalue": "invalid syntax (<ipython-input-179-51ede4d545a7>, line 1)",
     "output_type": "error",
     "traceback": [
      "\u001b[1;36m  File \u001b[1;32m\"<ipython-input-179-51ede4d545a7>\"\u001b[1;36m, line \u001b[1;32m1\u001b[0m\n\u001b[1;33m    df.NC tratadas.sum()\u001b[0m\n\u001b[1;37m          ^\u001b[0m\n\u001b[1;31mSyntaxError\u001b[0m\u001b[1;31m:\u001b[0m invalid syntax\n"
     ]
    }
   ],
   "source": [
    "df.NC tratadas.sum()\n",
    "#No se puede sumar columnas con nombres separados, se debe modificar el nombre de columnas "
   ]
  },
  {
   "cell_type": "code",
   "execution_count": 180,
   "metadata": {
    "slideshow": {
     "slide_type": "skip"
    }
   },
   "outputs": [
    {
     "data": {
      "text/plain": [
       "False"
      ]
     },
     "execution_count": 180,
     "metadata": {},
     "output_type": "execute_result"
    }
   ],
   "source": [
    "df.isnull().values.any()\n",
    "#Efectivamente no hay valores unicos"
   ]
  },
  {
   "cell_type": "markdown",
   "metadata": {
    "slideshow": {
     "slide_type": "slide"
    }
   },
   "source": [
    "## 3. Limpieza de los datos\n",
    "En base a la exploración de los datos, se decide realizar una limpieza con el fin de realizar un análisis eficaz\n",
    "\n",
    "Limpiar:\n",
    "- Columna Subgerentes\n",
    "- Columna Region\n",
    "- Modificar nombre separados de columnas "
   ]
  },
  {
   "cell_type": "code",
   "execution_count": 184,
   "metadata": {
    "slideshow": {
     "slide_type": "subslide"
    }
   },
   "outputs": [
    {
     "data": {
      "text/plain": [
       "0      Hector Figueroa\n",
       "1      Hector Figueroa\n",
       "2      Hector Figueroa\n",
       "3      Hector Figueroa\n",
       "4      Hector Figueroa\n",
       "            ...       \n",
       "436    Victor Zañartu \n",
       "437    Victor Zañartu \n",
       "438    Victor Zañartu \n",
       "439    Victor Zañartu \n",
       "440    Victor Zañartu \n",
       "Name: Subgerencia, Length: 441, dtype: object"
      ]
     },
     "execution_count": 184,
     "metadata": {},
     "output_type": "execute_result"
    }
   ],
   "source": [
    "# 1. Reemplazar valor nulo por subgerente \"Mauricio Aguilera\"\n",
    "df.Subgerencia.replace('Elias Matamoro','Elias Matamoros')"
   ]
  },
  {
   "cell_type": "code",
   "execution_count": 185,
   "metadata": {
    "slideshow": {
     "slide_type": "skip"
    }
   },
   "outputs": [
    {
     "data": {
      "text/plain": [
       "count                441\n",
       "unique                 7\n",
       "top       Elias Matamoro\n",
       "freq                 116\n",
       "Name: Subgerencia, dtype: object"
      ]
     },
     "execution_count": 185,
     "metadata": {},
     "output_type": "execute_result"
    }
   ],
   "source": [
    "df['Subgerencia'].describe()"
   ]
  },
  {
   "cell_type": "code",
   "execution_count": null,
   "metadata": {
    "slideshow": {
     "slide_type": "skip"
    }
   },
   "outputs": [],
   "source": [
    "# 2. Modificar región"
   ]
  },
  {
   "cell_type": "code",
   "execution_count": 96,
   "metadata": {
    "slideshow": {
     "slide_type": "subslide"
    }
   },
   "outputs": [],
   "source": [
    "# 3. Modificar el nombre de las columnas\n",
    "df = df.rename(columns={'Cumplimiento parcial': 'cumplimiento_parcial'})\n",
    "df = df.rename(columns={'Cumplimiento final': 'cumplimiento_final'})\n",
    "df = df.rename(columns={'Nc preliminar': 'NC_preliminar'})\n",
    "df = df.rename(columns={'NC definitivas': 'NC_definitivas'})\n",
    "df = df.rename(columns={'NC tratadas': 'NC_tratadas'})"
   ]
  },
  {
   "cell_type": "code",
   "execution_count": 14,
   "metadata": {
    "slideshow": {
     "slide_type": "subslide"
    }
   },
   "outputs": [
    {
     "data": {
      "text/plain": [
       "Index(['Servicio', 'Region', 'Auditoria', 'Categoria', 'Subgerencia',\n",
       "       'Requisito', 'cumplimiento_parcial', 'cumplimiento_final',\n",
       "       'NC_preliminar', 'NC_definitivas', 'NC_tratadas'],\n",
       "      dtype='object')"
      ]
     },
     "execution_count": 14,
     "metadata": {},
     "output_type": "execute_result"
    }
   ],
   "source": [
    "df.columns"
   ]
  },
  {
   "cell_type": "markdown",
   "metadata": {
    "slideshow": {
     "slide_type": "slide"
    }
   },
   "source": [
    "## 4. Presentación de datos\n",
    "De acuerdo al análisis y limpieza de los datos, se realiza lo siguiente:\n"
   ]
  },
  {
   "cell_type": "code",
   "execution_count": 186,
   "metadata": {
    "slideshow": {
     "slide_type": "skip"
    }
   },
   "outputs": [
    {
     "data": {
      "text/plain": [
       "Antofagasta           140\n",
       "Tarapaca              103\n",
       "Atacama y Coquimbo     83\n",
       "Metropolitana          42\n",
       "Bio Bio                38\n",
       "Metropolitana          35\n",
       "Name: Region, dtype: int64"
      ]
     },
     "execution_count": 186,
     "metadata": {},
     "output_type": "execute_result"
    }
   ],
   "source": [
    "df['Region'].value_counts()\n",
    "#Se audita a mas contratos de la ciudad de Antofagasta"
   ]
  },
  {
   "cell_type": "code",
   "execution_count": 187,
   "metadata": {
    "slideshow": {
     "slide_type": "skip"
    }
   },
   "outputs": [
    {
     "data": {
      "text/plain": [
       "Spence              40\n",
       "Cerro Colorado      39\n",
       "El Peñon            38\n",
       "Anglo American      38\n",
       "INCO                37\n",
       "Quebrada Blanca     31\n",
       "CMPC                31\n",
       "Casa Matriz         31\n",
       "Geologia            23\n",
       "Cerro Negro         20\n",
       "CDA                 20\n",
       "Geologia            18\n",
       "SGO                 13\n",
       "Quebrada Blanca     13\n",
       "Lavanderia          13\n",
       "SGO                  8\n",
       "Casa Matriz          8\n",
       "CMPC                 7\n",
       "Lavanderia           7\n",
       "Magnetita            6\n",
       "Name: Servicio, dtype: int64"
      ]
     },
     "execution_count": 187,
     "metadata": {},
     "output_type": "execute_result"
    }
   ],
   "source": [
    "df['Servicio'].value_counts()\n",
    "#El contrato mas auditado es Spence y el menos auditado es Magnetita"
   ]
  },
  {
   "cell_type": "code",
   "execution_count": 142,
   "metadata": {
    "slideshow": {
     "slide_type": "skip"
    }
   },
   "outputs": [
    {
     "data": {
      "text/plain": [
       "Seguridad                      168\n",
       "Higiene y Salud Ocupacional    116\n",
       "Calidad                         90\n",
       "Medio ambiente                  67\n",
       "Name: Auditoria, dtype: int64"
      ]
     },
     "execution_count": 142,
     "metadata": {},
     "output_type": "execute_result"
    }
   ],
   "source": [
    "df['Auditoria'].value_counts()\n",
    "#Se solicitan mas requisitos o topicos que evidenciar en la auditoria de Seguridad y \n",
    "#en la que menos se consulta es la de medio ambiente"
   ]
  },
  {
   "cell_type": "markdown",
   "metadata": {
    "slideshow": {
     "slide_type": "subslide"
    }
   },
   "source": [
    "## Los datos generales de análisis son:\n",
    "- Los contratos que mas se auditaron en el año pertenecen a la ciudad de Antofagasta\n",
    "- El contrato en que más requisitos se auditaron fue en Spence y el menos en Magnetita. Es de esperarse porque Magnetita solo fue auditado 2 veces y Spence 4.\n",
    "- Donde más se revisaron requisitos es en la auditoria de Seguridad"
   ]
  },
  {
   "cell_type": "markdown",
   "metadata": {
    "slideshow": {
     "slide_type": "slide"
    }
   },
   "source": [
    "# 4.1 ¿Existe alguna tendencia de resultados entre los distintos contratos frente a las distintas auditorias?"
   ]
  },
  {
   "cell_type": "code",
   "execution_count": 63,
   "metadata": {
    "slideshow": {
     "slide_type": "skip"
    }
   },
   "outputs": [
    {
     "data": {
      "text/plain": [
       "array(['Cerro Colorado', 'SGO', 'El Peñon', 'Spence', 'Geologia ',\n",
       "       'Magnetita', 'Cerro Negro', 'CDA', 'Casa Matriz', 'Anglo American',\n",
       "       'CMPC', 'INCO', 'Quebrada Blanca ', 'Lavanderia ', 'SGO ',\n",
       "       'Quebrada Blanca', 'Lavanderia', 'Geologia', 'Casa Matriz ',\n",
       "       'CMPC '], dtype=object)"
      ]
     },
     "execution_count": 63,
     "metadata": {},
     "output_type": "execute_result"
    }
   ],
   "source": [
    "df['Servicio'].unique()"
   ]
  },
  {
   "cell_type": "code",
   "execution_count": 88,
   "metadata": {
    "slideshow": {
     "slide_type": "skip"
    }
   },
   "outputs": [
    {
     "data": {
      "text/plain": [
       "Servicio          Auditoria                  \n",
       "Anglo American    Calidad                         6\n",
       "                  Higiene y Salud Ocupacional     7\n",
       "                  Medio ambiente                  1\n",
       "                  Seguridad                       5\n",
       "CDA               Higiene y Salud Ocupacional    41\n",
       "                  Seguridad                      21\n",
       "CMPC              Calidad                         5\n",
       "                  Higiene y Salud Ocupacional    20\n",
       "                  Seguridad                       1\n",
       "CMPC              Medio ambiente                  2\n",
       "Casa Matriz       Higiene y Salud Ocupacional    23\n",
       "                  Medio ambiente                 10\n",
       "                  Seguridad                      11\n",
       "Casa Matriz       Calidad                        13\n",
       "Cerro Colorado    Calidad                         0\n",
       "                  Higiene y Salud Ocupacional     9\n",
       "                  Medio ambiente                  0\n",
       "                  Seguridad                       1\n",
       "Cerro Negro       Higiene y Salud Ocupacional     9\n",
       "                  Seguridad                      20\n",
       "El Peñon          Calidad                        11\n",
       "                  Higiene y Salud Ocupacional     6\n",
       "                  Medio ambiente                  0\n",
       "                  Seguridad                       3\n",
       "Geologia          Calidad                        17\n",
       "                  Medio ambiente                  7\n",
       "Geologia          Higiene y Salud Ocupacional    28\n",
       "                  Seguridad                      27\n",
       "INCO              Calidad                        13\n",
       "                  Higiene y Salud Ocupacional    35\n",
       "                  Medio ambiente                  4\n",
       "                  Seguridad                      25\n",
       "Lavanderia        Seguridad                      40\n",
       "Lavanderia        Higiene y Salud Ocupacional    20\n",
       "Magnetita         Higiene y Salud Ocupacional    19\n",
       "Quebrada Blanca   Calidad                         6\n",
       "                  Medio ambiente                  0\n",
       "                  Seguridad                      20\n",
       "Quebrada Blanca   Higiene y Salud Ocupacional    48\n",
       "SGO               Higiene y Salud Ocupacional     9\n",
       "SGO               Seguridad                      11\n",
       "Spence            Calidad                         3\n",
       "                  Higiene y Salud Ocupacional    51\n",
       "                  Medio ambiente                  0\n",
       "                  Seguridad                       7\n",
       "Name: NC_preliminar, dtype: int64"
      ]
     },
     "execution_count": 88,
     "metadata": {},
     "output_type": "execute_result"
    }
   ],
   "source": [
    "#Analizar por contrato y auditoria\n",
    "df.groupby([\"Servicio\",\"Auditoria\"])['NC_preliminar'].sum()"
   ]
  },
  {
   "cell_type": "markdown",
   "metadata": {
    "slideshow": {
     "slide_type": "subslide"
    }
   },
   "source": [
    "Se tomó una muestra para revisar el comportamiento y se obtuvo lo siguiente:\n",
    "1. Anglo Amercian: como se observa en la tabla, el contrato mantuvo no conformidades en un rango parecido, es decir, le fue bien en todas las auditorias (por las bajas NC).\n",
    "2. CMPC: mantiene un rango promedio, la auditoria de Higiene mantiene un valor mas alto en comparación a las otras.\n",
    "3. El Peñon: mantiene el mismo rango de resultados en todas las auditorias.\n",
    "3. INCO: mantiene un rango promedio con NC mas altas, sin embargo le va mejor en la auditoria de Medio Ambiente. \n",
    "4. Quebrada Blanca: contrato tiene resultados altos, a excepción de la auditoria de Medio Ambiente.\n",
    "5. Geologia: mantiene un rango alto de NC, donde mejor le va es en la auditoria de Medio Ambiente\n",
    "\n",
    "\n",
    "**Respuesta: existe un patrón. De acuerdo a la revisión aleatoria, los contratos o les va bien en todas o en ninguna (comparando entre NC) permitiendo evaluar la gestión de los administradores de cada contrato. Otro patrón destacable es el rango de NC por auditorias, donde mas NC hubieron fue en la auditoria de Higiene y en la que mejores resultados demostraton fue en la de medio ambiente.**"
   ]
  },
  {
   "cell_type": "markdown",
   "metadata": {
    "slideshow": {
     "slide_type": "slide"
    }
   },
   "source": [
    "# 4.2 ¿Hubo un aumento significativo en el cumplimiento frente al plazo entregado?"
   ]
  },
  {
   "cell_type": "code",
   "execution_count": 241,
   "metadata": {
    "slideshow": {
     "slide_type": "skip"
    }
   },
   "outputs": [
    {
     "data": {
      "text/plain": [
       "235"
      ]
     },
     "execution_count": 241,
     "metadata": {},
     "output_type": "execute_result"
    }
   ],
   "source": [
    "df.NC_definitivas.sum()"
   ]
  },
  {
   "cell_type": "code",
   "execution_count": 239,
   "metadata": {
    "slideshow": {
     "slide_type": "skip"
    }
   },
   "outputs": [
    {
     "data": {
      "text/plain": [
       "615"
      ]
     },
     "execution_count": 239,
     "metadata": {},
     "output_type": "execute_result"
    }
   ],
   "source": [
    "df.NC_preliminar.sum()"
   ]
  },
  {
   "cell_type": "code",
   "execution_count": 97,
   "metadata": {
    "slideshow": {
     "slide_type": "skip"
    }
   },
   "outputs": [
    {
     "data": {
      "text/plain": [
       "372"
      ]
     },
     "execution_count": 97,
     "metadata": {},
     "output_type": "execute_result"
    }
   ],
   "source": [
    "df.NC_tratadas.sum()\n",
    "#Se trataton 372 no conformidades de acuerdo al plazo entregado para enviar evidencias (6 días)"
   ]
  },
  {
   "cell_type": "code",
   "execution_count": 153,
   "metadata": {
    "slideshow": {
     "slide_type": "subslide"
    }
   },
   "outputs": [
    {
     "data": {
      "image/png": "[encoded data removed]",
      "text/plain": [
       "<Figure size 432x288 with 1 Axes>"
      ]
     },
     "metadata": {
      "needs_background": "light"
     },
     "output_type": "display_data"
    }
   ],
   "source": [
    "auditoriastodas = df.groupby('Auditoria')['NC_preliminar'].sum()\n",
    "auditoriastodas = auditoriastodas.plot.bar()\n",
    "auditoriastodas.plot()\n",
    "plt.title('No conformidades preliminares por auditoria')\n",
    "plt.ylabel('No conformidades')\n",
    "plt.xlabel('Tipos de auditorias');"
   ]
  },
  {
   "cell_type": "code",
   "execution_count": 158,
   "metadata": {
    "slideshow": {
     "slide_type": "subslide"
    }
   },
   "outputs": [
    {
     "data": {
      "image/png": "[encoded data removed]",
      "text/plain": [
       "<Figure size 432x288 with 1 Axes>"
      ]
     },
     "metadata": {
      "needs_background": "light"
     },
     "output_type": "display_data"
    }
   ],
   "source": [
    "auditoriastodas = df.groupby('Auditoria')['NC_definitivas'].sum()\n",
    "auditoriastodas = auditoriastodas.plot.bar()\n",
    "\n",
    "auditoriastodas.plot()\n",
    "plt.title('No conformidades definitivas por auditoria')\n",
    "plt.ylabel('No conformidades')\n",
    "plt.xlabel('Tipos de auditorias');"
   ]
  },
  {
   "cell_type": "markdown",
   "metadata": {
    "slideshow": {
     "slide_type": "subslide"
    }
   },
   "source": [
    "El grafico demuestra la diferencia entre las NC preliminares y las definitivas por tipo de auditoria. Como se observa en el eje de las y, hubo una disminución considerable de NC en todas las auditorias\n",
    "\n",
    "**Respuesta Dentro del plazo se recolectaron 615 no conformidades y se mantuvieron 235 como definitivas, es decir, se trataron 372, por lo tanto, hubo una eficiencia de 62% en incorporar nueva metodologia (plazo)**"
   ]
  },
  {
   "cell_type": "markdown",
   "metadata": {
    "slideshow": {
     "slide_type": "slide"
    }
   },
   "source": [
    "# 4.3 ¿Cúal o cuales fueron los contratos que mejor resultado tuvieron?, ¿Y los peores?"
   ]
  },
  {
   "cell_type": "code",
   "execution_count": 167,
   "metadata": {
    "slideshow": {
     "slide_type": "skip"
    }
   },
   "outputs": [
    {
     "data": {
      "text/plain": [
       "Servicio          Auditoria                  \n",
       "Anglo American    Calidad                         6\n",
       "                  Higiene y Salud Ocupacional     7\n",
       "                  Medio ambiente                  1\n",
       "                  Seguridad                       5\n",
       "CDA               Higiene y Salud Ocupacional    41\n",
       "                  Seguridad                      21\n",
       "CMPC              Calidad                         5\n",
       "                  Higiene y Salud Ocupacional    20\n",
       "                  Seguridad                       1\n",
       "CMPC              Medio ambiente                  2\n",
       "Casa Matriz       Higiene y Salud Ocupacional    23\n",
       "                  Medio ambiente                 10\n",
       "                  Seguridad                      11\n",
       "Casa Matriz       Calidad                        13\n",
       "Cerro Colorado    Calidad                         0\n",
       "                  Higiene y Salud Ocupacional     9\n",
       "                  Medio ambiente                  0\n",
       "                  Seguridad                       1\n",
       "Cerro Negro       Higiene y Salud Ocupacional     9\n",
       "                  Seguridad                      20\n",
       "El Peñon          Calidad                        11\n",
       "                  Higiene y Salud Ocupacional     6\n",
       "                  Medio ambiente                  0\n",
       "                  Seguridad                       3\n",
       "Geologia          Calidad                        17\n",
       "                  Medio ambiente                  7\n",
       "Geologia          Higiene y Salud Ocupacional    28\n",
       "                  Seguridad                      27\n",
       "INCO              Calidad                        13\n",
       "                  Higiene y Salud Ocupacional    35\n",
       "                  Medio ambiente                  4\n",
       "                  Seguridad                      25\n",
       "Lavanderia        Seguridad                      40\n",
       "Lavanderia        Higiene y Salud Ocupacional    20\n",
       "Magnetita         Higiene y Salud Ocupacional    19\n",
       "Quebrada Blanca   Calidad                         6\n",
       "                  Medio ambiente                  0\n",
       "                  Seguridad                      20\n",
       "Quebrada Blanca   Higiene y Salud Ocupacional    48\n",
       "SGO               Higiene y Salud Ocupacional     9\n",
       "SGO               Seguridad                      11\n",
       "Spence            Calidad                         3\n",
       "                  Higiene y Salud Ocupacional    51\n",
       "                  Medio ambiente                  0\n",
       "                  Seguridad                       7\n",
       "Name: NC_preliminar, dtype: int64"
      ]
     },
     "execution_count": 167,
     "metadata": {},
     "output_type": "execute_result"
    }
   ],
   "source": [
    "df.groupby([\"Servicio\",\"Auditoria\"])['NC_preliminar'].sum()\n"
   ]
  },
  {
   "cell_type": "code",
   "execution_count": 148,
   "metadata": {
    "scrolled": true,
    "slideshow": {
     "slide_type": "skip"
    }
   },
   "outputs": [
    {
     "data": {
      "text/plain": [
       "Servicio          Auditoria                  \n",
       "Anglo American    Calidad                         6\n",
       "                  Higiene y Salud Ocupacional     7\n",
       "                  Medio ambiente                  1\n",
       "                  Seguridad                       5\n",
       "CDA               Higiene y Salud Ocupacional     0\n",
       "                  Seguridad                       6\n",
       "CMPC              Calidad                         0\n",
       "                  Higiene y Salud Ocupacional    20\n",
       "                  Seguridad                       1\n",
       "CMPC              Medio ambiente                  0\n",
       "Casa Matriz       Higiene y Salud Ocupacional    19\n",
       "                  Medio ambiente                  9\n",
       "                  Seguridad                      11\n",
       "Casa Matriz       Calidad                        11\n",
       "Cerro Colorado    Calidad                         0\n",
       "                  Higiene y Salud Ocupacional     9\n",
       "                  Medio ambiente                  0\n",
       "                  Seguridad                       1\n",
       "Cerro Negro       Higiene y Salud Ocupacional     9\n",
       "                  Seguridad                      20\n",
       "El Peñon          Calidad                        11\n",
       "                  Higiene y Salud Ocupacional     6\n",
       "                  Medio ambiente                  0\n",
       "                  Seguridad                       3\n",
       "Geologia          Calidad                         8\n",
       "                  Medio ambiente                  7\n",
       "Geologia          Higiene y Salud Ocupacional    17\n",
       "                  Seguridad                      24\n",
       "INCO              Calidad                         3\n",
       "                  Higiene y Salud Ocupacional    29\n",
       "                  Medio ambiente                  2\n",
       "                  Seguridad                      12\n",
       "Lavanderia        Seguridad                       0\n",
       "Lavanderia        Higiene y Salud Ocupacional    13\n",
       "Magnetita         Higiene y Salud Ocupacional    18\n",
       "Quebrada Blanca   Calidad                         3\n",
       "                  Medio ambiente                  0\n",
       "                  Seguridad                      14\n",
       "Quebrada Blanca   Higiene y Salud Ocupacional    27\n",
       "SGO               Higiene y Salud Ocupacional     7\n",
       "SGO               Seguridad                      11\n",
       "Spence            Calidad                         2\n",
       "                  Higiene y Salud Ocupacional    17\n",
       "                  Medio ambiente                  0\n",
       "                  Seguridad                       3\n",
       "Name: NC_tratadas, dtype: int64"
      ]
     },
     "execution_count": 148,
     "metadata": {},
     "output_type": "execute_result"
    }
   ],
   "source": [
    "df.groupby([\"Servicio\",\"Auditoria\"])['NC_tratadas'].sum()"
   ]
  },
  {
   "cell_type": "code",
   "execution_count": 154,
   "metadata": {
    "slideshow": {
     "slide_type": "subslide"
    }
   },
   "outputs": [
    {
     "data": {
      "image/png": "[encoded data removed]",
      "text/plain": [
       "<Figure size 432x288 with 1 Axes>"
      ]
     },
     "metadata": {
      "needs_background": "light"
     },
     "output_type": "display_data"
    }
   ],
   "source": [
    "serviciostodas = df.groupby([\"Servicio\"])['NC_preliminar'].sum()\n",
    "serviciostodas = serviciostodas.plot.bar()\n",
    "serviciostodas.plot()\n",
    "plt.title('No conformidades preliminares por contrato')\n",
    "plt.ylabel('No conformidades')\n",
    "plt.xlabel('Contratos');"
   ]
  },
  {
   "cell_type": "markdown",
   "metadata": {
    "slideshow": {
     "slide_type": "subslide"
    }
   },
   "source": [
    "Lo anterior entrega los siguientes resultados: \n",
    "1. Los contratos con menos no conformidades: CMPC con 2, SGO con 9 y Cerro Colorado con 10.\n",
    "2. Los contratos con mas no conformidades: INCO con 77, CDA con 62 y Spence con 61.\n",
    "3. Los contratos con mas no conformidades tratadas: INCO con 46, Geologia con 41 y Casa Matriz con 39.\n",
    "4. Los contratos con menos no conformidades tratadas: CDA con 6, Lavandería con 13 \n",
    "**Respuesta: los contratos con mejores resultados son: CMPC (con NC preliminares) e INCO (con tratadas) y con peores son: INCO (con NC preliminares) y CDA (sin tratar)**"
   ]
  },
  {
   "cell_type": "markdown",
   "metadata": {
    "slideshow": {
     "slide_type": "slide"
    }
   },
   "source": [
    "# 4.4 ¿Cúal auditoria tuvo mejores resultados?, ¿y la peor?"
   ]
  },
  {
   "cell_type": "code",
   "execution_count": 154,
   "metadata": {
    "slideshow": {
     "slide_type": "skip"
    }
   },
   "outputs": [
    {
     "data": {
      "text/plain": [
       "Servicio                20\n",
       "Region                   6\n",
       "Auditoria                4\n",
       "Categoria                2\n",
       "Subgerencia              0\n",
       "Requisito               47\n",
       "cumplimiento_parcial    48\n",
       "cumplimiento_final      38\n",
       "NC_preliminar           12\n",
       "NC_definitivas           9\n",
       "NC_tratadas              9\n",
       "dtype: int64"
      ]
     },
     "execution_count": 154,
     "metadata": {},
     "output_type": "execute_result"
    }
   ],
   "source": [
    "df.nunique()"
   ]
  },
  {
   "cell_type": "code",
   "execution_count": 17,
   "metadata": {
    "slideshow": {
     "slide_type": "skip"
    }
   },
   "outputs": [],
   "source": [
    "#Crear data frames por auditoria para concer el promedio de rendimiento\n",
    "#Auditoria de calidad\n",
    "df_auditoriaC = df[df.Auditoria == \"Calidad\"]"
   ]
  },
  {
   "cell_type": "code",
   "execution_count": 18,
   "metadata": {
    "slideshow": {
     "slide_type": "skip"
    }
   },
   "outputs": [
    {
     "data": {
      "text/plain": [
       "74"
      ]
     },
     "execution_count": 18,
     "metadata": {},
     "output_type": "execute_result"
    }
   ],
   "source": [
    "df_auditoriaC.NC_preliminar.sum()"
   ]
  },
  {
   "cell_type": "code",
   "execution_count": 182,
   "metadata": {
    "slideshow": {
     "slide_type": "skip"
    }
   },
   "outputs": [
    {
     "data": {
      "text/plain": [
       "30"
      ]
     },
     "execution_count": 182,
     "metadata": {},
     "output_type": "execute_result"
    }
   ],
   "source": [
    "df_auditoriaC.NC_definitivas.sum() "
   ]
  },
  {
   "cell_type": "code",
   "execution_count": 28,
   "metadata": {
    "slideshow": {
     "slide_type": "skip"
    }
   },
   "outputs": [],
   "source": [
    "#Auditoria de medio ambiente\n",
    "df_auditoriaM = df[df.Auditoria == \"Medio ambiente\"]"
   ]
  },
  {
   "cell_type": "code",
   "execution_count": 29,
   "metadata": {
    "slideshow": {
     "slide_type": "skip"
    }
   },
   "outputs": [
    {
     "data": {
      "text/plain": [
       "24"
      ]
     },
     "execution_count": 29,
     "metadata": {},
     "output_type": "execute_result"
    }
   ],
   "source": [
    "df_auditoriaM.NC_preliminar.sum()"
   ]
  },
  {
   "cell_type": "code",
   "execution_count": 192,
   "metadata": {
    "slideshow": {
     "slide_type": "skip"
    }
   },
   "outputs": [
    {
     "data": {
      "text/plain": [
       "4"
      ]
     },
     "execution_count": 192,
     "metadata": {},
     "output_type": "execute_result"
    }
   ],
   "source": [
    "df_auditoriaM.NC_definitivas.sum()"
   ]
  },
  {
   "cell_type": "code",
   "execution_count": 23,
   "metadata": {
    "slideshow": {
     "slide_type": "skip"
    }
   },
   "outputs": [],
   "source": [
    "#Auditoria de higiene\n",
    "df_auditoriaH = df[df.Auditoria == \"Higiene y Salud Ocupacional\"]"
   ]
  },
  {
   "cell_type": "code",
   "execution_count": 198,
   "metadata": {
    "slideshow": {
     "slide_type": "skip"
    }
   },
   "outputs": [
    {
     "data": {
      "text/plain": [
       "325"
      ]
     },
     "execution_count": 198,
     "metadata": {},
     "output_type": "execute_result"
    }
   ],
   "source": [
    "df_auditoriaH.NC_preliminar.sum()"
   ]
  },
  {
   "cell_type": "code",
   "execution_count": 201,
   "metadata": {
    "slideshow": {
     "slide_type": "skip"
    }
   },
   "outputs": [
    {
     "data": {
      "text/plain": [
       "120"
      ]
     },
     "execution_count": 201,
     "metadata": {},
     "output_type": "execute_result"
    }
   ],
   "source": [
    "df_auditoriaH.NC_definitivas.sum()"
   ]
  },
  {
   "cell_type": "code",
   "execution_count": 43,
   "metadata": {
    "slideshow": {
     "slide_type": "skip"
    }
   },
   "outputs": [
    {
     "data": {
      "text/plain": [
       "0"
      ]
     },
     "execution_count": 43,
     "metadata": {},
     "output_type": "execute_result"
    }
   ],
   "source": [
    "#Otra forma de hacerlo\n",
    "df[df.Auditoria == \"Seguridad\"].Servicio.sum()"
   ]
  },
  {
   "cell_type": "code",
   "execution_count": 123,
   "metadata": {
    "slideshow": {
     "slide_type": "skip"
    }
   },
   "outputs": [
    {
     "data": {
      "text/plain": [
       "Servicio                0\n",
       "Region                  0\n",
       "Auditoria               0\n",
       "Categoria               0\n",
       "Subgerencia             0\n",
       "Requisito               0\n",
       "cumplimiento_parcial    0\n",
       "cumplimiento_final      0\n",
       "NC_preliminar           0\n",
       "NC_definitivas          0\n",
       "NC_tratadas             0\n",
       "dtype: int64"
      ]
     },
     "execution_count": 123,
     "metadata": {},
     "output_type": "execute_result"
    }
   ],
   "source": [
    "df_auditoriaseguridad.nunique()"
   ]
  },
  {
   "cell_type": "code",
   "execution_count": 156,
   "metadata": {
    "slideshow": {
     "slide_type": "subslide"
    }
   },
   "outputs": [
    {
     "data": {
      "text/plain": [
       "Text(0.5, 1.0, 'No conformidades preliminares por tipo de auditoria')"
      ]
     },
     "execution_count": 156,
     "metadata": {},
     "output_type": "execute_result"
    },
    {
     "data": {
      "image/png": "[encoded data removed]",
      "text/plain": [
       "<Figure size 432x288 with 1 Axes>"
      ]
     },
     "metadata": {},
     "output_type": "display_data"
    }
   ],
   "source": [
    "auditoriastodas = df.groupby([\"Auditoria\"])['NC_preliminar'].sum()\n",
    "auditoriastodas = auditoriastodas.plot.pie()\n",
    "plt.title('No conformidades preliminares por tipo de auditoria')\n"
   ]
  },
  {
   "cell_type": "code",
   "execution_count": 157,
   "metadata": {
    "slideshow": {
     "slide_type": "subslide"
    }
   },
   "outputs": [
    {
     "data": {
      "text/plain": [
       "Text(0.5, 1.0, 'No conformidades tratadas por tipo de auditoria')"
      ]
     },
     "execution_count": 157,
     "metadata": {},
     "output_type": "execute_result"
    },
    {
     "data": {
      "image/png": "[encoded data removed]",
      "text/plain": [
       "<Figure size 432x288 with 1 Axes>"
      ]
     },
     "metadata": {},
     "output_type": "display_data"
    }
   ],
   "source": [
    "auditoriastodas = df.groupby([\"Auditoria\"])['NC_tratadas'].sum()\n",
    "auditoriastodas = auditoriastodas.plot.pie()\n",
    "plt.title('No conformidades tratadas por tipo de auditoria')\n"
   ]
  },
  {
   "cell_type": "markdown",
   "metadata": {
    "slideshow": {
     "slide_type": "subslide"
    }
   },
   "source": [
    "4.4 **¿Cúal auditoria tuvo mejores resultados?, ¿y la peor?**\n",
    "\n",
    "1. Resultados de la auditoria calidad:  74 no conformidades durante el día de la auditoria y 30 definitivas, por lo tanto hubo una eficiencia de 41%.\n",
    "\n",
    "\n",
    "2. Resultados de la auditoria seguridad:  No se pudo obtener el valor\n",
    " \n",
    "3. Resultados de la auditoria medio ambiente: 24 no conformidades durante el día de la auditoria y 4 definitivas, por lo tanto hubo una eficiencia de 83%.\n",
    " \n",
    " \n",
    "4. Resultados de la auditoria de Higiene y salud ocupacional: 325 no conformidades durante el día de la auditoria y 120 definitivas, por lo tanto hubo una eficiencia de 63%.\n",
    "\n",
    "Por otra parte, las NC mas tratadas fueron las de Higiene y las menos de Medio ambiente, a pesar de que esta última sea la que menos NC mantiene.\n",
    " \n",
    "**Respuesta: la auditoria con mejores resultados fue la de medio ambiente y con peores la de Higiene y Salud Ocupacional**\n"
   ]
  },
  {
   "cell_type": "markdown",
   "metadata": {
    "slideshow": {
     "slide_type": "slide"
    }
   },
   "source": [
    "# 4.5 ¿Qué topicos auditados tuvieron mejores resultados?, ¿y los peores?"
   ]
  },
  {
   "cell_type": "code",
   "execution_count": 166,
   "metadata": {
    "scrolled": true,
    "slideshow": {
     "slide_type": "skip"
    }
   },
   "outputs": [
    {
     "data": {
      "text/plain": [
       "Auditoria                    Requisito                                               \n",
       "Calidad                      Auditorías                                                   8\n",
       "                             Capacitación / Competencia                                  16\n",
       "                             Comunicación Participación y Consulta                        0\n",
       "                             Control Documental                                           0\n",
       "                             Equipos, Vehículos y Herramientas                            8\n",
       "                             Identificación de Riesgos y Oportunidades                   18\n",
       "                             Preparación y Respuesta Ante Emergencias Operacionales       8\n",
       "                             Productos y Servicios Suministrados Externamente             0\n",
       "                             Requisitos Legales  / Operación                             13\n",
       "                             Revisión por la Dirección                                    3\n",
       "                             Satisfacción al Cliente                                      0\n",
       "Higiene y Salud Ocupacional  Covid-19                                                    40\n",
       "                             Evaluación puesto                                           22\n",
       "                             Exposicion a frio                                            5\n",
       "                             Hipobaria                                                    5\n",
       "                             Iluminación                                                 22\n",
       "                             MMC                                                         50\n",
       "                             Neblina acida                                                6\n",
       "                             Psicosocial                                                 51\n",
       "                             RUV                                                         35\n",
       "                             Radiaciones Ionizantes                                       6\n",
       "                             Ruido                                                       12\n",
       "                             Silice                                                      15\n",
       "                             TMERT                                                       45\n",
       "                             Teletrabajo                                                  6\n",
       "                             Vibraciones                                                  5\n",
       "Medio ambiente               Auditorías                                                   0\n",
       "                             Capacitación                                                 2\n",
       "                             Comunicación, Participación y Consulta                       3\n",
       "                             Control Documental                                           1\n",
       "                             Emisiones Contaminantes (Equipos Generadores de Energía)     2\n",
       "                             Identificación Aspectos e Impactos Ambientales               6\n",
       "                             Objetivos de Medio Ambiente                                  5\n",
       "                             Preparación y Respuesta Ante Emergencias                     4\n",
       "                             Requisitos Legales                                           1\n",
       "                             Residuos Peligrosos                                          0\n",
       "                             Sustancias Peligrosas                                        0\n",
       "Seguridad                    Accidentabilidad                                            14\n",
       "                             Auditorias                                                  20\n",
       "                             Capacitacion                                                 7\n",
       "                             Comite paritario de higiene y seguridad.                    34\n",
       "                             Comunicacion, participacion y consulta                      26\n",
       "                             Control documental                                           6\n",
       "                             Elementos de protección personal                            11\n",
       "                             Identificacion Peligros y Evaluacion de Riesgos              6\n",
       "                             Objetivos de Seguridad y Salud Ocupacional                  34\n",
       "                             Preparacion y Respuesta Ante Emergencias                    16\n",
       "                             Requisitos Legales                                           8\n",
       "                             Riesgos de fatalidad                                         2\n",
       "                             Salud ocupacional                                            8\n",
       "Name: NC_preliminar, dtype: int64"
      ]
     },
     "execution_count": 166,
     "metadata": {},
     "output_type": "execute_result"
    }
   ],
   "source": [
    "df.groupby([\"Auditoria\",\"Requisito\"])['NC_preliminar'].sum()\n"
   ]
  },
  {
   "cell_type": "markdown",
   "metadata": {
    "slideshow": {
     "slide_type": "subslide"
    }
   },
   "source": [
    "**Respuesta:**\n",
    "1. Auditoria de Calidad: \n",
    "- Los requisitos con mejores resultados fueron \"Satisfacción al cliente\", \"Comunicación, Participación y Consulta\", \"Control Documental\" y \"Productos y Servicios Suministrados Externamente\". \n",
    "- Por otra parte, los peores requisitos auditados fueron: \"Capacitación y Competencia\", \"Identificación de Riesgos y Oportunidades\" y \"Requisitos Legales\".\n",
    "\n",
    "2. Auditoria de Higiene y Salud Ocupacional:\n",
    "- Los requisitos con mejores resultados fueron: \"Exposición a frío\", \"Hipobaria\" y \"Vibraciones\".\n",
    "- Por otra parte, los peores requisitos auditados fueron: \"Psicosocial\", \"Iluminación\" y \"Tmert\".\n",
    "\n",
    "3. Auditoria de Medio Ambiente:\n",
    "- Los requisitos con mejores resultados fueron: \"Residuos Peligrosos\" y \"Sustancias Peligrosas\"\n",
    "- Por otra parte, los peores requisitos auditados fueron: \"Identificación Aspectos e Impactos Ambientales\" y \"Objetivos de Medio Ambiente\"\n",
    "A pesar de la comparación, el rango en esta auditoria es muy parecido.\n",
    "\n",
    "4. Auditora de Seguridad:\n",
    "- Los requisitos con mejores resultados fueron: \"Riesgos de Fatalidad\", \"Identificacion Peligros y Evaluacion de Riesgos\" y \"Control Documental\"\n",
    "- Por otra parte, los peores requisitos auditados fueron: \"Objetivos de Seguridad y Salud Ocupacional\", \"Comite paritario de higiene y seguridad\" y \"Comunicacion, participacion y consulta\".\n"
   ]
  },
  {
   "cell_type": "code",
   "execution_count": 45,
   "metadata": {
    "slideshow": {
     "slide_type": "skip"
    }
   },
   "outputs": [],
   "source": []
  },
  {
   "cell_type": "code",
   "execution_count": null,
   "metadata": {
    "slideshow": {
     "slide_type": "skip"
    }
   },
   "outputs": [],
   "source": []
  },
  {
   "cell_type": "code",
   "execution_count": null,
   "metadata": {
    "slideshow": {
     "slide_type": "skip"
    }
   },
   "outputs": [],
   "source": []
  },
  {
   "cell_type": "code",
   "execution_count": null,
   "metadata": {
    "slideshow": {
     "slide_type": "skip"
    }
   },
   "outputs": [],
   "source": []
  },
  {
   "cell_type": "code",
   "execution_count": null,
   "metadata": {
    "slideshow": {
     "slide_type": "skip"
    }
   },
   "outputs": [],
   "source": []
  },
  {
   "cell_type": "code",
   "execution_count": null,
   "metadata": {
    "slideshow": {
     "slide_type": "skip"
    }
   },
   "outputs": [],
   "source": []
  },
  {
   "cell_type": "code",
   "execution_count": null,
   "metadata": {
    "slideshow": {
     "slide_type": "skip"
    }
   },
   "outputs": [],
   "source": []
  },
  {
   "cell_type": "code",
   "execution_count": null,
   "metadata": {
    "slideshow": {
     "slide_type": "skip"
    }
   },
   "outputs": [],
   "source": []
  },
  {
   "cell_type": "code",
   "execution_count": null,
   "metadata": {
    "slideshow": {
     "slide_type": "skip"
    }
   },
   "outputs": [],
   "source": []
  },
  {
   "cell_type": "code",
   "execution_count": null,
   "metadata": {
    "slideshow": {
     "slide_type": "skip"
    }
   },
   "outputs": [],
   "source": []
  },
  {
   "cell_type": "code",
   "execution_count": 91,
   "metadata": {
    "slideshow": {
     "slide_type": "skip"
    }
   },
   "outputs": [],
   "source": []
  },
  {
   "cell_type": "code",
   "execution_count": null,
   "metadata": {
    "slideshow": {
     "slide_type": "skip"
    }
   },
   "outputs": [],
   "source": []
  },
  {
   "cell_type": "code",
   "execution_count": null,
   "metadata": {
    "slideshow": {
     "slide_type": "skip"
    }
   },
   "outputs": [],
   "source": []
  },
  {
   "cell_type": "code",
   "execution_count": null,
   "metadata": {
    "slideshow": {
     "slide_type": "skip"
    }
   },
   "outputs": [],
   "source": []
  },
  {
   "cell_type": "code",
   "execution_count": null,
   "metadata": {
    "slideshow": {
     "slide_type": "skip"
    }
   },
   "outputs": [],
   "source": []
  },
  {
   "cell_type": "code",
   "execution_count": null,
   "metadata": {
    "slideshow": {
     "slide_type": "skip"
    }
   },
   "outputs": [],
   "source": []
  },
  {
   "cell_type": "code",
   "execution_count": null,
   "metadata": {
    "slideshow": {
     "slide_type": "skip"
    }
   },
   "outputs": [],
   "source": []
  },
  {
   "cell_type": "code",
   "execution_count": null,
   "metadata": {
    "slideshow": {
     "slide_type": "skip"
    }
   },
   "outputs": [],
   "source": []
  },
  {
   "cell_type": "code",
   "execution_count": null,
   "metadata": {
    "slideshow": {
     "slide_type": "skip"
    }
   },
   "outputs": [],
   "source": []
  },
  {
   "cell_type": "code",
   "execution_count": null,
   "metadata": {
    "slideshow": {
     "slide_type": "skip"
    }
   },
   "outputs": [],
   "source": []
  },
  {
   "cell_type": "code",
   "execution_count": null,
   "metadata": {
    "slideshow": {
     "slide_type": "skip"
    }
   },
   "outputs": [],
   "source": [
    "\n",
    "\n"
   ]
  },
  {
   "cell_type": "code",
   "execution_count": null,
   "metadata": {
    "slideshow": {
     "slide_type": "skip"
    }
   },
   "outputs": [],
   "source": []
  },
  {
   "cell_type": "code",
   "execution_count": null,
   "metadata": {
    "slideshow": {
     "slide_type": "skip"
    }
   },
   "outputs": [],
   "source": []
  },
  {
   "cell_type": "code",
   "execution_count": null,
   "metadata": {
    "slideshow": {
     "slide_type": "skip"
    }
   },
   "outputs": [],
   "source": []
  },
  {
   "cell_type": "code",
   "execution_count": null,
   "metadata": {
    "slideshow": {
     "slide_type": "skip"
    }
   },
   "outputs": [],
   "source": []
  },
  {
   "cell_type": "code",
   "execution_count": null,
   "metadata": {
    "slideshow": {
     "slide_type": "skip"
    }
   },
   "outputs": [],
   "source": []
  }
 ],
 "metadata": {
  "celltoolbar": "Slideshow",
  "kernelspec": {
   "display_name": "Python 3",
   "language": "python",
   "name": "python3"
  },
  "language_info": {
   "codemirror_mode": {
    "name": "ipython",
    "version": 3
   },
   "file_extension": ".py",
   "mimetype": "text/x-python",
   "name": "python",
   "nbconvert_exporter": "python",
   "pygments_lexer": "ipython3",
   "version": "3.8.5"
  }
 },
 "nbformat": 4,
 "nbformat_minor": 4
}
